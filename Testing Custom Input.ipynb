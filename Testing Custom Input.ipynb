{
 "cells": [
  {
   "cell_type": "code",
   "execution_count": 19,
   "metadata": {},
   "outputs": [],
   "source": [
    "import re\n",
    "import numpy as np\n",
    "import scipy as sp"
   ]
  },
  {
   "cell_type": "code",
   "execution_count": 9,
   "metadata": {},
   "outputs": [],
   "source": [
    "import pickle\n",
    "\n",
    "mnb_model = pickle.load(open('Trained Models\\mnb_model', 'rb'))\n",
    "linear_svc_model = pickle.load(open('Trained Models\\linear_svc_model', 'rb'))\n",
    "logistic_model = pickle.load(open('Trained Models\\logistic_model', 'rb'))\n",
    "random_forest_model = pickle.load(open('Trained Models\\\\random_forest_model', 'rb'))\n",
    "cv = loadedcv = pickle.load(open(\"Trained Models\\Saved_CountVectorizer.pkl\", \"rb\" ))"
   ]
  },
  {
   "cell_type": "code",
   "execution_count": 10,
   "metadata": {},
   "outputs": [],
   "source": [
    "def string_to_model_input(text):\n",
    "    text_words = re.sub(\"[^A-Za-z0-9]\", \" \", text)\n",
    "    sparse_text_words = cv.transform([re.sub(\"[^A-Za-z0-9]\", \" \", text_words)])\n",
    "    additional_data = get_additional_features([text])\n",
    "    features = sp.sparse.hstack([sparse_text_words,additional_data])\n",
    "    return features"
   ]
  },
  {
   "cell_type": "code",
   "execution_count": 14,
   "metadata": {},
   "outputs": [],
   "source": [
    "def test_model(model, url):\n",
    "    predict = int(model.predict(string_to_model_input(url)))\n",
    "    return 'Malicious' if predict == 1 else 'Legitimate'"
   ]
  },
  {
   "cell_type": "code",
   "execution_count": 15,
   "metadata": {},
   "outputs": [],
   "source": [
    "#abrunebs featurebis raodenoba X data Size zomis np.arrays\n",
    "def get_additional_features(data):\n",
    "    \n",
    "    a1  = np.asarray([[int(len(i)<=4) for i in data]])\n",
    "    a2  = np.asarray([[int(4<len(i)<=12) for i in data]])\n",
    "    a3  = np.asarray([[int(12<len(i)<=44) for i in data]])\n",
    "    a4  = np.asarray([[int(44<len(i)) for i in data]])\n",
    "\n",
    "    a5  = np.asarray([[i.count('/') for i in data]])\n",
    "    a6  = np.asarray([[i.count('//') for i in data]])\n",
    "    a7  = np.asarray([[i.count('<') for i in data]])\n",
    "    a8  = np.asarray([[i.count('>') for i in data]])\n",
    "    a9  = np.asarray([[i.count('.') for i in data]])\n",
    "    a10 = np.asarray([[i.count(',') for i in data]])\n",
    "    a11 = np.asarray([[i.count('..') for i in data]])\n",
    "    a12 = np.asarray([[i.count('(') for i in data]])\n",
    "    a13 = np.asarray([[i.count(')') for i in data]])\n",
    "    a14 = np.asarray([[i.count('[') for i in data]])\n",
    "    a15 = np.asarray([[i.count(']') for i in data]])\n",
    "    a16 = np.asarray([[i.count('\"') for i in data]])\n",
    "    a17 = np.asarray([[i.count(\"'\") for i in data]])\n",
    "    a18 = np.asarray([[i.count('?') for i in data]])\n",
    "    a19 = np.asarray([[i.count(';') for i in data]])\n",
    "    a20 = np.asarray([[i.count('-') for i in data]])\n",
    "    \n",
    "    a21 = np.asarray([[i.count('https') for i in data]])\n",
    "    a22 = np.asarray([[(i.count('<')>0 and i.count('>')) for i in data]])\n",
    "    a23 = np.asarray([[i.count('%') for i in data]])\n",
    "    a24 = np.asarray([[i.count('+') for i in data]])\n",
    "    a25 = np.asarray([[i.count('</') for i in data]])\n",
    "    a26 = np.asarray([[i.count('.exe') for i in data]])\n",
    "    a27 = np.asarray([[i.count('&') for i in data]])\n",
    "    a28 = np.asarray([[i.count('=') for i in data]])\n",
    "\n",
    "    \n",
    "    return np.concatenate([a1, a2, a3, a4, a5, a6, a7, a8, a9, a10, a11, a12, a13, a14, a15, a16, a17, a18, a19, a20, a21, a22, a23, a24,a25,a26,a27,a28]).T"
   ]
  },
  {
   "cell_type": "code",
   "execution_count": 21,
   "metadata": {},
   "outputs": [
    {
     "data": {
      "text/plain": [
       "'Malicious'"
      ]
     },
     "execution_count": 21,
     "metadata": {},
     "output_type": "execute_result"
    }
   ],
   "source": [
    "test_model(linear_svc_model,'asdas/<br>asdasd')"
   ]
  },
  {
   "cell_type": "code",
   "execution_count": null,
   "metadata": {},
   "outputs": [],
   "source": []
  }
 ],
 "metadata": {
  "kernelspec": {
   "display_name": "Python 3",
   "language": "python",
   "name": "python3"
  },
  "language_info": {
   "codemirror_mode": {
    "name": "ipython",
    "version": 3
   },
   "file_extension": ".py",
   "mimetype": "text/x-python",
   "name": "python",
   "nbconvert_exporter": "python",
   "pygments_lexer": "ipython3",
   "version": "3.6.4"
  }
 },
 "nbformat": 4,
 "nbformat_minor": 2
}
