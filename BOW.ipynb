{
 "cells": [
  {
   "cell_type": "code",
   "execution_count": 3,
   "metadata": {},
   "outputs": [
    {
     "name": "stderr",
     "output_type": "stream",
     "text": [
      "C:\\Users\\Cxovrika\\Anaconda3\\lib\\site-packages\\sklearn\\cross_validation.py:41: DeprecationWarning: This module was deprecated in version 0.18 in favor of the model_selection module into which all the refactored classes and functions are moved. Also note that the interface of the new CV iterators are different from that of this module. This module will be removed in 0.20.\n",
      "  \"This module will be removed in 0.20.\", DeprecationWarning)\n"
     ]
    }
   ],
   "source": [
    "import os\n",
    "import sys\n",
    "import re\n",
    "import matplotlib\n",
    "import pandas as pd\n",
    "import numpy as np\n",
    "from os.path import splitext\n",
    "import ipaddress as ip\n",
    "import tldextract\n",
    "import whois\n",
    "import datetime\n",
    "from urllib.parse import urlparse\n",
    "from sklearn.cross_validation import train_test_split\n",
    "from sklearn.naive_bayes import MultinomialNB\n",
    "from sklearn.metrics import confusion_matrix\n",
    "import csv"
   ]
  },
  {
   "cell_type": "code",
   "execution_count": 9,
   "metadata": {},
   "outputs": [],
   "source": [
    "cnt = 0\n",
    "with open('malicious.txt','r', encoding='utf-8') as legitimate:\n",
    "    for rec in legitimate:\n",
    "        cnt = cnt+1\n",
    "        if rec == np.nan:\n",
    "            print(1)\n",
    "        #with open('legitimate_words.csv','a', encoding='utf-8') as legitimate_words:\n",
    "            #words = re.sub(\"[^A-Za-z0-9]\", \" \", rec)\n",
    "            #words = re.sub(' +',' ',words)\n",
    "            #words = words.strip()\n",
    "            #words = words.lower()\n",
    "            #legitimate_words.write( words + '\\n')"
   ]
  },
  {
   "cell_type": "code",
   "execution_count": 10,
   "metadata": {},
   "outputs": [
    {
     "data": {
      "text/plain": [
       "48126"
      ]
     },
     "execution_count": 10,
     "metadata": {},
     "output_type": "execute_result"
    }
   ],
   "source": [
    "cnt"
   ]
  },
  {
   "cell_type": "code",
   "execution_count": 3,
   "metadata": {},
   "outputs": [],
   "source": [
    "with open('malicious.txt','r', encoding='utf-8') as malicious:\n",
    "    for rec in malicious:\n",
    "        with open('malicious_words.csv','a', encoding='utf-8') as malicious_words:\n",
    "            words = re.sub(\"[^A-Za-z0-9]\", \" \", rec)\n",
    "            words = re.sub(' +',' ',words)\n",
    "            words = words.strip()\n",
    "            words = words.lower()\n",
    "            malicious_words.write( words + '\\n')"
   ]
  },
  {
   "cell_type": "code",
   "execution_count": 2,
   "metadata": {},
   "outputs": [
    {
     "data": {
      "text/plain": [
       "['hello', 'world', 'sample', 'text']"
      ]
     },
     "execution_count": 2,
     "metadata": {},
     "output_type": "execute_result"
    }
   ],
   "source": [
    "\"hello world sample text\".split(\" \")"
   ]
  },
  {
   "cell_type": "code",
   "execution_count": 3,
   "metadata": {},
   "outputs": [],
   "source": [
    "all_words = []\n",
    "\n",
    "with open('malicious_words.csv','r', encoding='utf-8') as malicious_words:\n",
    "    for row in malicious_words:\n",
    "        all_words.extend(row.rstrip().split(\" \"))\n",
    "        \n",
    "\n",
    "with open('legitimate_words.csv','r', encoding='utf-8') as legitimate_words:\n",
    "    for row in legitimate_words:\n",
    "        all_words.extend(row.rstrip().split(\" \"))"
   ]
  },
  {
   "cell_type": "code",
   "execution_count": 3,
   "metadata": {
    "scrolled": true
   },
   "outputs": [],
   "source": [
    "rows = []\n",
    "with open('legitimate_words.csv','r', encoding='utf-8') as malicious_words:\n",
    "    for row in malicious_words:\n",
    "        rows.append(row)\n",
    "\n",
    "#print(rows)"
   ]
  },
  {
   "cell_type": "code",
   "execution_count": 5,
   "metadata": {},
   "outputs": [],
   "source": [
    "from collections import Counter\n",
    "all_word_counts = Counter(all_words)\n",
    "\n",
    "#all_word_counts = all_word_counts.most_common()\n",
    "\n",
    "dictionary = all_word_counts.most_common(20000)\n",
    "for idx,row in enumerate(dictionary):\n",
    "    with open('dictionary.csv','a', encoding='utf-8') as dictionary_file:\n",
    "        dictionary_file.write(str(idx) + \",\" + row[0] + \",\" + str(row[1]) + \"\\n\")\n",
    "    "
   ]
  },
  {
   "cell_type": "code",
   "execution_count": 6,
   "metadata": {},
   "outputs": [],
   "source": [
    "def str_to_input_data(input_text):\n",
    "    \n",
    "    row_count = sum(1 for line in open('dictionary.csv'))\n",
    "    ans = np.zeros((row_count,1))\n",
    "    for word in input_text.split(\" \"):\n",
    "        with open('dictionary.csv', 'r') as csvfile:\n",
    "            for row in csv.reader(csvfile):\n",
    "                if row[1] == word:\n",
    "                    ans[int(row[0])] = ans[int(row[0])]+1\n",
    "            \n",
    "    return ans"
   ]
  },
  {
   "cell_type": "code",
   "execution_count": 16,
   "metadata": {},
   "outputs": [
    {
     "name": "stdout",
     "output_type": "stream",
     "text": [
      "<class 'tuple'>\n"
     ]
    }
   ],
   "source": [
    "x = str_to_input_data(\"php php 20 javascript javascript striker olivia olivia\")\n",
    "print(type(x.shape))"
   ]
  },
  {
   "cell_type": "code",
   "execution_count": 15,
   "metadata": {},
   "outputs": [
    {
     "ename": "MemoryError",
     "evalue": "",
     "output_type": "error",
     "traceback": [
      "\u001b[1;31m---------------------------------------------------------------------------\u001b[0m",
      "\u001b[1;31mMemoryError\u001b[0m                               Traceback (most recent call last)",
      "\u001b[1;32m<ipython-input-15-b8cf273f2f25>\u001b[0m in \u001b[0;36m<module>\u001b[1;34m()\u001b[0m\n\u001b[0;32m      1\u001b[0m \u001b[0mlegitimate_row_count\u001b[0m \u001b[1;33m=\u001b[0m \u001b[0msum\u001b[0m\u001b[1;33m(\u001b[0m\u001b[1;36m1\u001b[0m \u001b[1;32mfor\u001b[0m \u001b[0mline\u001b[0m \u001b[1;32min\u001b[0m \u001b[0mopen\u001b[0m\u001b[1;33m(\u001b[0m\u001b[1;34m'legitimate_words.csv'\u001b[0m\u001b[1;33m)\u001b[0m\u001b[1;33m)\u001b[0m\u001b[1;33m\u001b[0m\u001b[0m\n\u001b[1;32m----> 2\u001b[1;33m \u001b[0mX_Legitimate\u001b[0m \u001b[1;33m=\u001b[0m \u001b[0mnp\u001b[0m\u001b[1;33m.\u001b[0m\u001b[0mzeros\u001b[0m\u001b[1;33m(\u001b[0m\u001b[1;33m(\u001b[0m\u001b[1;36m20000\u001b[0m\u001b[1;33m,\u001b[0m\u001b[0mlegitimate_row_count\u001b[0m\u001b[1;33m)\u001b[0m\u001b[1;33m)\u001b[0m\u001b[1;33m\u001b[0m\u001b[0m\n\u001b[0m\u001b[0;32m      3\u001b[0m \u001b[1;32mwith\u001b[0m \u001b[0mopen\u001b[0m\u001b[1;33m(\u001b[0m\u001b[1;34m'legitimate_words.csv'\u001b[0m\u001b[1;33m,\u001b[0m \u001b[1;34m'r'\u001b[0m\u001b[1;33m)\u001b[0m \u001b[1;32mas\u001b[0m \u001b[0mlegitimate_words\u001b[0m\u001b[1;33m:\u001b[0m\u001b[1;33m\u001b[0m\u001b[0m\n\u001b[0;32m      4\u001b[0m     \u001b[1;32mfor\u001b[0m \u001b[0mrow\u001b[0m \u001b[1;32min\u001b[0m \u001b[0mlegitimate_words\u001b[0m\u001b[1;33m:\u001b[0m\u001b[1;33m\u001b[0m\u001b[0m\n\u001b[0;32m      5\u001b[0m         \u001b[0mX_Legitimate\u001b[0m\u001b[1;33m[\u001b[0m\u001b[1;33m:\u001b[0m\u001b[1;33m]\u001b[0m\u001b[1;33m[\u001b[0m\u001b[0mrow\u001b[0m\u001b[1;33m[\u001b[0m\u001b[1;36m0\u001b[0m\u001b[1;33m]\u001b[0m\u001b[1;33m-\u001b[0m\u001b[1;36m1\u001b[0m\u001b[1;33m]\u001b[0m \u001b[1;33m=\u001b[0m \u001b[0mstr_to_input_data\u001b[0m\u001b[1;33m(\u001b[0m\u001b[0mrow\u001b[0m\u001b[1;33m[\u001b[0m\u001b[1;36m1\u001b[0m\u001b[1;33m]\u001b[0m\u001b[1;33m)\u001b[0m\u001b[1;33m\u001b[0m\u001b[0m\n",
      "\u001b[1;31mMemoryError\u001b[0m: "
     ]
    }
   ],
   "source": [
    "legitimate_row_count = sum(1 for line in open('legitimate_words.csv'))\n",
    "#X_Legitimate = np.zeros((20000,legitimate_row_count))\n",
    "\n",
    "with open('legitimate_words.csv', 'r') as legitimate_words:\n",
    "    for words in legitimate_words:\n",
    "        str_to_input_data(input_text)\n",
    "        X_Legitimate[:][row[0]-1] = str_to_input_data(row[1]) "
   ]
  },
  {
   "cell_type": "code",
   "execution_count": 37,
   "metadata": {},
   "outputs": [],
   "source": [
    "import pandas\n",
    "import random\n",
    "\n",
    "#n = 1000000 #number of records in file\n",
    "#s = 50000 #desired sample size\n",
    "#skip = sorted(random.sample(range(n),n-s))\n",
    "#df_legitimate = pandas.read_csv('legitimate_words.csv', skiprows=skip,header=None)\n",
    "\n",
    "df_legitimate = pd.read_csv('legitimate_words.csv',header=None)\n",
    "df_malicious  = pd.read_csv('malicious_words.csv',header=None)\n",
    "df_legitimate.insert(1,'new',1)\n",
    "df_malicious.insert(1,'new',0)"
   ]
  },
  {
   "cell_type": "code",
   "execution_count": 38,
   "metadata": {},
   "outputs": [
    {
     "data": {
      "text/html": [
       "<div>\n",
       "<style scoped>\n",
       "    .dataframe tbody tr th:only-of-type {\n",
       "        vertical-align: middle;\n",
       "    }\n",
       "\n",
       "    .dataframe tbody tr th {\n",
       "        vertical-align: top;\n",
       "    }\n",
       "\n",
       "    .dataframe thead th {\n",
       "        text-align: right;\n",
       "    }\n",
       "</style>\n",
       "<table border=\"1\" class=\"dataframe\">\n",
       "  <thead>\n",
       "    <tr style=\"text-align: right;\">\n",
       "      <th></th>\n",
       "      <th>0</th>\n",
       "      <th>new</th>\n",
       "    </tr>\n",
       "  </thead>\n",
       "  <tbody>\n",
       "    <tr>\n",
       "      <th>0</th>\n",
       "      <td>103886</td>\n",
       "      <td>1</td>\n",
       "    </tr>\n",
       "    <tr>\n",
       "      <th>1</th>\n",
       "      <td>rcanimal</td>\n",
       "      <td>1</td>\n",
       "    </tr>\n",
       "    <tr>\n",
       "      <th>2</th>\n",
       "      <td>458010b88d9ce</td>\n",
       "      <td>1</td>\n",
       "    </tr>\n",
       "    <tr>\n",
       "      <th>3</th>\n",
       "      <td>cclogovs</td>\n",
       "      <td>1</td>\n",
       "    </tr>\n",
       "    <tr>\n",
       "      <th>4</th>\n",
       "      <td>using localization</td>\n",
       "      <td>1</td>\n",
       "    </tr>\n",
       "  </tbody>\n",
       "</table>\n",
       "</div>"
      ],
      "text/plain": [
       "                    0  new\n",
       "0              103886    1\n",
       "1            rcanimal    1\n",
       "2       458010b88d9ce    1\n",
       "3            cclogovs    1\n",
       "4  using localization    1"
      ]
     },
     "execution_count": 38,
     "metadata": {},
     "output_type": "execute_result"
    }
   ],
   "source": [
    "df_legitimate.head()"
   ]
  },
  {
   "cell_type": "code",
   "execution_count": 39,
   "metadata": {},
   "outputs": [],
   "source": [
    "frames = [df_legitimate, df_malicious]\n",
    "df = pd.concat(frames)\n",
    "df = df[~df[0].isnull()]"
   ]
  },
  {
   "cell_type": "code",
   "execution_count": 40,
   "metadata": {},
   "outputs": [
    {
     "data": {
      "text/plain": [
       "0      1294530\n",
       "new    1294530\n",
       "dtype: int64"
      ]
     },
     "execution_count": 40,
     "metadata": {},
     "output_type": "execute_result"
    }
   ],
   "source": [
    "df_legitimate.count()"
   ]
  },
  {
   "cell_type": "code",
   "execution_count": 41,
   "metadata": {},
   "outputs": [
    {
     "data": {
      "text/plain": [
       "0      47855\n",
       "new    47866\n",
       "dtype: int64"
      ]
     },
     "execution_count": 41,
     "metadata": {},
     "output_type": "execute_result"
    }
   ],
   "source": [
    "df_malicious.count()"
   ]
  },
  {
   "cell_type": "code",
   "execution_count": 42,
   "metadata": {},
   "outputs": [
    {
     "data": {
      "text/plain": [
       "0      1342385\n",
       "new    1342385\n",
       "dtype: int64"
      ]
     },
     "execution_count": 42,
     "metadata": {},
     "output_type": "execute_result"
    }
   ],
   "source": [
    "df.count()"
   ]
  },
  {
   "cell_type": "code",
   "execution_count": 43,
   "metadata": {},
   "outputs": [],
   "source": [
    "df_x = df[0]\n",
    "df_y = df['new']"
   ]
  },
  {
   "cell_type": "code",
   "execution_count": 44,
   "metadata": {},
   "outputs": [
    {
     "data": {
      "text/plain": [
       "0    1\n",
       "1    1\n",
       "2    1\n",
       "3    1\n",
       "4    1\n",
       "Name: new, dtype: int64"
      ]
     },
     "execution_count": 44,
     "metadata": {},
     "output_type": "execute_result"
    }
   ],
   "source": [
    "df_y.head()"
   ]
  },
  {
   "cell_type": "code",
   "execution_count": 45,
   "metadata": {},
   "outputs": [],
   "source": [
    "from sklearn.feature_extraction.text import CountVectorizer\n",
    "cv1 = CountVectorizer()"
   ]
  },
  {
   "cell_type": "code",
   "execution_count": 46,
   "metadata": {},
   "outputs": [],
   "source": [
    "x_train, x_test, y_train, y_test = train_test_split(df_x, df_y, test_size=0.2, random_state=4)"
   ]
  },
  {
   "cell_type": "code",
   "execution_count": 47,
   "metadata": {},
   "outputs": [
    {
     "name": "stdout",
     "output_type": "stream",
     "text": [
      "1291128    1\n",
      "245647     1\n",
      "781429     1\n",
      "708945     1\n",
      "350794     1\n",
      "160471     1\n",
      "426013     1\n",
      "405201     1\n",
      "1165570    1\n",
      "77054      1\n",
      "43392      0\n",
      "840001     1\n",
      "621586     1\n",
      "1242777    1\n",
      "1008863    1\n",
      "922184     1\n",
      "482147     1\n",
      "354212     1\n",
      "118321     1\n",
      "423884     1\n",
      "1043714    1\n",
      "748782     1\n",
      "1103891    1\n",
      "334568     1\n",
      "1270385    1\n",
      "622731     1\n",
      "643996     1\n",
      "1199244    1\n",
      "820778     1\n",
      "506965     1\n",
      "          ..\n",
      "743767     1\n",
      "986042     1\n",
      "1060162    1\n",
      "478856     1\n",
      "115742     1\n",
      "472437     1\n",
      "922306     1\n",
      "947709     1\n",
      "846246     1\n",
      "712853     1\n",
      "707093     1\n",
      "1151159    1\n",
      "549888     1\n",
      "9603       1\n",
      "722484     1\n",
      "860138     1\n",
      "390270     1\n",
      "1186860    1\n",
      "369586     1\n",
      "646820     1\n",
      "950120     1\n",
      "226231     1\n",
      "764727     1\n",
      "860007     1\n",
      "1156154    1\n",
      "639432     1\n",
      "653672     1\n",
      "120705     1\n",
      "991406     1\n",
      "1000570    1\n",
      "Name: new, Length: 1073908, dtype: int64\n"
     ]
    }
   ],
   "source": [
    "print(y_train)"
   ]
  },
  {
   "cell_type": "code",
   "execution_count": 48,
   "metadata": {},
   "outputs": [
    {
     "data": {
      "text/plain": [
       "1291128          holdingpage\n",
       "245647                041205\n",
       "781429           fish killer\n",
       "708945     javascript mac ws\n",
       "350794                225610\n",
       "Name: 0, dtype: object"
      ]
     },
     "execution_count": 48,
     "metadata": {},
     "output_type": "execute_result"
    }
   ],
   "source": [
    "x_train.head()"
   ]
  },
  {
   "cell_type": "code",
   "execution_count": 49,
   "metadata": {},
   "outputs": [],
   "source": [
    "x_traincv=cv1.fit_transform(x_train)"
   ]
  },
  {
   "cell_type": "code",
   "execution_count": 50,
   "metadata": {
    "scrolled": true
   },
   "outputs": [
    {
     "data": {
      "text/plain": [
       "<1073908x642165 sparse matrix of type '<class 'numpy.int64'>'\n",
       "\twith 2384999 stored elements in Compressed Sparse Row format>"
      ]
     },
     "execution_count": 50,
     "metadata": {},
     "output_type": "execute_result"
    }
   ],
   "source": [
    "x_traincv"
   ]
  },
  {
   "cell_type": "code",
   "execution_count": 51,
   "metadata": {},
   "outputs": [],
   "source": [
    "x_testcv=cv1.transform(x_test)"
   ]
  },
  {
   "cell_type": "code",
   "execution_count": null,
   "metadata": {},
   "outputs": [],
   "source": []
  },
  {
   "cell_type": "code",
   "execution_count": 52,
   "metadata": {},
   "outputs": [],
   "source": [
    "mnb = MultinomialNB()"
   ]
  },
  {
   "cell_type": "code",
   "execution_count": 53,
   "metadata": {},
   "outputs": [],
   "source": [
    "y_train=y_train.astype('int')"
   ]
  },
  {
   "cell_type": "code",
   "execution_count": 54,
   "metadata": {},
   "outputs": [
    {
     "data": {
      "text/plain": [
       "1291128    1\n",
       "245647     1\n",
       "781429     1\n",
       "708945     1\n",
       "350794     1\n",
       "160471     1\n",
       "426013     1\n",
       "405201     1\n",
       "1165570    1\n",
       "77054      1\n",
       "43392      0\n",
       "840001     1\n",
       "621586     1\n",
       "1242777    1\n",
       "1008863    1\n",
       "922184     1\n",
       "482147     1\n",
       "354212     1\n",
       "118321     1\n",
       "423884     1\n",
       "1043714    1\n",
       "748782     1\n",
       "1103891    1\n",
       "334568     1\n",
       "1270385    1\n",
       "622731     1\n",
       "643996     1\n",
       "1199244    1\n",
       "820778     1\n",
       "506965     1\n",
       "          ..\n",
       "743767     1\n",
       "986042     1\n",
       "1060162    1\n",
       "478856     1\n",
       "115742     1\n",
       "472437     1\n",
       "922306     1\n",
       "947709     1\n",
       "846246     1\n",
       "712853     1\n",
       "707093     1\n",
       "1151159    1\n",
       "549888     1\n",
       "9603       1\n",
       "722484     1\n",
       "860138     1\n",
       "390270     1\n",
       "1186860    1\n",
       "369586     1\n",
       "646820     1\n",
       "950120     1\n",
       "226231     1\n",
       "764727     1\n",
       "860007     1\n",
       "1156154    1\n",
       "639432     1\n",
       "653672     1\n",
       "120705     1\n",
       "991406     1\n",
       "1000570    1\n",
       "Name: new, Length: 1073908, dtype: int32"
      ]
     },
     "execution_count": 54,
     "metadata": {},
     "output_type": "execute_result"
    }
   ],
   "source": [
    "y_train"
   ]
  },
  {
   "cell_type": "code",
   "execution_count": 55,
   "metadata": {},
   "outputs": [
    {
     "data": {
      "text/plain": [
       "MultinomialNB(alpha=1.0, class_prior=None, fit_prior=True)"
      ]
     },
     "execution_count": 55,
     "metadata": {},
     "output_type": "execute_result"
    }
   ],
   "source": [
    "mnb.fit(x_traincv,y_train)"
   ]
  },
  {
   "cell_type": "code",
   "execution_count": 56,
   "metadata": {},
   "outputs": [],
   "source": [
    "testmessage=x_test.iloc[0]"
   ]
  },
  {
   "cell_type": "code",
   "execution_count": 57,
   "metadata": {},
   "outputs": [
    {
     "data": {
      "text/plain": [
       "538571     1\n",
       "759387     1\n",
       "1061341    1\n",
       "370775     1\n",
       "388573     1\n",
       "149096     1\n",
       "1126807    1\n",
       "99221      1\n",
       "147786     1\n",
       "643947     1\n",
       "1241701    1\n",
       "308431     1\n",
       "327447     1\n",
       "406250     1\n",
       "951539     1\n",
       "347495     1\n",
       "517510     1\n",
       "234837     1\n",
       "19369      0\n",
       "775729     1\n",
       "1118001    1\n",
       "1049345    1\n",
       "41661      1\n",
       "981502     1\n",
       "2674       0\n",
       "512290     1\n",
       "1007011    1\n",
       "534939     1\n",
       "1035731    1\n",
       "357589     1\n",
       "          ..\n",
       "1134255    1\n",
       "253800     1\n",
       "611853     1\n",
       "929489     1\n",
       "149785     1\n",
       "1006556    1\n",
       "683026     1\n",
       "410593     1\n",
       "588585     1\n",
       "134332     1\n",
       "540550     1\n",
       "316993     1\n",
       "388172     1\n",
       "64469      1\n",
       "854291     1\n",
       "711969     1\n",
       "56207      1\n",
       "702982     1\n",
       "552773     1\n",
       "96851      1\n",
       "689600     1\n",
       "1196256    1\n",
       "993109     1\n",
       "277631     1\n",
       "39245      0\n",
       "32765      0\n",
       "743001     1\n",
       "349755     1\n",
       "507148     1\n",
       "869885     1\n",
       "Name: new, Length: 268477, dtype: int64"
      ]
     },
     "execution_count": 57,
     "metadata": {},
     "output_type": "execute_result"
    }
   ],
   "source": [
    "y_test"
   ]
  },
  {
   "cell_type": "code",
   "execution_count": 58,
   "metadata": {},
   "outputs": [],
   "source": [
    "predictions =mnb.predict(x_testcv)"
   ]
  },
  {
   "cell_type": "code",
   "execution_count": 59,
   "metadata": {},
   "outputs": [
    {
     "data": {
      "text/plain": [
       "array([1, 1, 1, ..., 1, 1, 1])"
      ]
     },
     "execution_count": 59,
     "metadata": {},
     "output_type": "execute_result"
    }
   ],
   "source": [
    "predictions"
   ]
  },
  {
   "cell_type": "code",
   "execution_count": 60,
   "metadata": {},
   "outputs": [],
   "source": [
    "a=np.array(y_test)"
   ]
  },
  {
   "cell_type": "code",
   "execution_count": 61,
   "metadata": {},
   "outputs": [
    {
     "data": {
      "text/plain": [
       "array([9521])"
      ]
     },
     "execution_count": 61,
     "metadata": {},
     "output_type": "execute_result"
    }
   ],
   "source": [
    "a.shape - sum(a)"
   ]
  },
  {
   "cell_type": "code",
   "execution_count": 62,
   "metadata": {},
   "outputs": [
    {
     "data": {
      "text/plain": [
       "265848"
      ]
     },
     "execution_count": 62,
     "metadata": {},
     "output_type": "execute_result"
    }
   ],
   "source": [
    "count=0\n",
    "for i in range (len(predictions)):\n",
    "    if predictions[i]==a[i]:\n",
    "        count=count+1\n",
    "\n",
    "count"
   ]
  },
  {
   "cell_type": "code",
   "execution_count": 63,
   "metadata": {},
   "outputs": [
    {
     "data": {
      "text/plain": [
       "268477"
      ]
     },
     "execution_count": 63,
     "metadata": {},
     "output_type": "execute_result"
    }
   ],
   "source": [
    "len(predictions)"
   ]
  },
  {
   "cell_type": "code",
   "execution_count": 64,
   "metadata": {},
   "outputs": [
    {
     "data": {
      "text/plain": [
       "99.02077272913509"
      ]
     },
     "execution_count": 64,
     "metadata": {},
     "output_type": "execute_result"
    }
   ],
   "source": [
    "count*100/len(predictions)"
   ]
  },
  {
   "cell_type": "code",
   "execution_count": 65,
   "metadata": {},
   "outputs": [],
   "source": [
    "tn, fp, fn, tp = confusion_matrix(a, predictions).ravel()"
   ]
  },
  {
   "cell_type": "code",
   "execution_count": 66,
   "metadata": {},
   "outputs": [
    {
     "data": {
      "text/plain": [
       "(258382, 2055)"
      ]
     },
     "execution_count": 66,
     "metadata": {},
     "output_type": "execute_result"
    }
   ],
   "source": [
    "tp, fp"
   ]
  },
  {
   "cell_type": "code",
   "execution_count": 67,
   "metadata": {},
   "outputs": [
    {
     "data": {
      "text/plain": [
       "(7466, 574)"
      ]
     },
     "execution_count": 67,
     "metadata": {},
     "output_type": "execute_result"
    }
   ],
   "source": [
    "tn, fn"
   ]
  },
  {
   "cell_type": "code",
   "execution_count": 68,
   "metadata": {},
   "outputs": [
    {
     "data": {
      "text/plain": [
       "0.9902077272913509"
      ]
     },
     "execution_count": 68,
     "metadata": {},
     "output_type": "execute_result"
    }
   ],
   "source": [
    "(tp+tn)/(tn+ fp+ fn+ tp)"
   ]
  },
  {
   "cell_type": "code",
   "execution_count": 70,
   "metadata": {},
   "outputs": [
    {
     "data": {
      "text/plain": [
       "0.9286069651741293"
      ]
     },
     "execution_count": 70,
     "metadata": {},
     "output_type": "execute_result"
    }
   ],
   "source": [
    "tn/(tn+fn)"
   ]
  },
  {
   "cell_type": "code",
   "execution_count": null,
   "metadata": {},
   "outputs": [],
   "source": []
  }
 ],
 "metadata": {
  "kernelspec": {
   "display_name": "Python 3",
   "language": "python",
   "name": "python3"
  },
  "language_info": {
   "codemirror_mode": {
    "name": "ipython",
    "version": 3
   },
   "file_extension": ".py",
   "mimetype": "text/x-python",
   "name": "python",
   "nbconvert_exporter": "python",
   "pygments_lexer": "ipython3",
   "version": "3.6.4"
  }
 },
 "nbformat": 4,
 "nbformat_minor": 2
}
