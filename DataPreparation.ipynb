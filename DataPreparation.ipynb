{
 "cells": [
  {
   "cell_type": "code",
   "execution_count": 9,
   "metadata": {},
   "outputs": [],
   "source": [
    "content = open('malicious.txt', 'r', encoding='utf-8').readlines()\n",
    "content_set = set(content)\n",
    "cleandata = open('clean_malicious.txt', 'w', encoding='utf-8')\n",
    "for line in content_set:\n",
    "    cleandata.write(line)"
   ]
  },
  {
   "cell_type": "code",
   "execution_count": 8,
   "metadata": {},
   "outputs": [],
   "source": [
    "content = open('legitimate.txt', 'r', encoding='utf-8').readlines()\n",
    "content_set = set(content)\n",
    "cleandata = open('clean_legitimate.txt', 'w', encoding='utf-8')\n",
    "for line in content_set:\n",
    "    cleandata.write(line)"
   ]
  },
  {
   "cell_type": "code",
   "execution_count": null,
   "metadata": {},
   "outputs": [],
   "source": []
  }
 ],
 "metadata": {
  "kernelspec": {
   "display_name": "Python 3",
   "language": "python",
   "name": "python3"
  },
  "language_info": {
   "codemirror_mode": {
    "name": "ipython",
    "version": 3
   },
   "file_extension": ".py",
   "mimetype": "text/x-python",
   "name": "python",
   "nbconvert_exporter": "python",
   "pygments_lexer": "ipython3",
   "version": "3.6.4"
  }
 },
 "nbformat": 4,
 "nbformat_minor": 2
}
